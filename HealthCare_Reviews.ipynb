{
 "cells": [
  {
   "cell_type": "markdown",
   "id": "13d54f79",
   "metadata": {},
   "source": [
    "# NLP - Sentiment Analysis on Healthcare Reviews"
   ]
  },
  {
   "cell_type": "markdown",
   "id": "88348390",
   "metadata": {},
   "source": [
    "## PROBLEM STATEMENT: Analyze Sentiments in healthcare reviews\n",
    "\n",
    "## TASKS: \n",
    "    1. Data Preprocessing\n",
    "    2. Sentiment Analysis model\n",
    "    3. Model Evaluation\n",
    "    4. Insights and Visualization"
   ]
  },
  {
   "cell_type": "markdown",
   "id": "e822c034",
   "metadata": {},
   "source": [
    "## Data Preprocessing"
   ]
  },
  {
   "cell_type": "code",
   "execution_count": 2,
   "id": "6ac46650",
   "metadata": {},
   "outputs": [],
   "source": [
    "# Pakages\n",
    "import pandas as pd\n",
    "import numpy as np\n",
    "import re\n",
    "import nltk\n",
    "from nltk.tokenize import word_tokenize\n",
    "from nltk.corpus import stopwords\n",
    "import string  \n",
    "from nltk.stem import WordNetLemmatizer\n",
    "from nltk.stem import PorterStemmer\n",
    "from nltk import pos_tag\n",
    "from textblob import TextBlob\n",
    "from sklearn.model_selection import train_test_split\n",
    "from sklearn.feature_extraction.text import TfidfVectorizer\n",
    "from sklearn.feature_extraction.text import CountVectorizer\n",
    "from imblearn.over_sampling import SMOTE\n",
    "from sklearn.linear_model import LogisticRegression\n",
    "from sklearn.neighbors import KNeighborsClassifier\n",
    "from sklearn.svm import SVC\n",
    "from sklearn.tree import DecisionTreeClassifier\n",
    "from sklearn.ensemble import ExtraTreesClassifier\n",
    "from sklearn.ensemble import RandomForestClassifier\n",
    "from sklearn.ensemble import AdaBoostClassifier\n",
    "from sklearn.ensemble import GradientBoostingClassifier\n",
    "from sklearn import metrics\n",
    "from xgboost import XGBClassifier\n",
    "import matplotlib.pyplot as plt  \n",
    "import seaborn as sns \n",
    "import plotly.express as px\n",
    "from wordcloud import WordCloud\n",
    "from sklearn.metrics import confusion_matrix, accuracy_score, classification_report"
   ]
  },
  {
   "cell_type": "code",
   "execution_count": 3,
   "id": "2b2a953f-ac9e-4553-856d-79adb7d5daff",
   "metadata": {},
   "outputs": [
    {
     "data": {
      "text/html": [
       "<div>\n",
       "<style scoped>\n",
       "    .dataframe tbody tr th:only-of-type {\n",
       "        vertical-align: middle;\n",
       "    }\n",
       "\n",
       "    .dataframe tbody tr th {\n",
       "        vertical-align: top;\n",
       "    }\n",
       "\n",
       "    .dataframe thead th {\n",
       "        text-align: right;\n",
       "    }\n",
       "</style>\n",
       "<table border=\"1\" class=\"dataframe\">\n",
       "  <thead>\n",
       "    <tr style=\"text-align: right;\">\n",
       "      <th></th>\n",
       "      <th>Review_Text</th>\n",
       "      <th>Rating</th>\n",
       "    </tr>\n",
       "  </thead>\n",
       "  <tbody>\n",
       "    <tr>\n",
       "      <th>0</th>\n",
       "      <td>I have mixed feelings about my experience.</td>\n",
       "      <td>4</td>\n",
       "    </tr>\n",
       "    <tr>\n",
       "      <th>1</th>\n",
       "      <td>The staff was caring and attentive. I couldn't...</td>\n",
       "      <td>5</td>\n",
       "    </tr>\n",
       "    <tr>\n",
       "      <th>2</th>\n",
       "      <td>I have mixed feelings about my experience.</td>\n",
       "      <td>5</td>\n",
       "    </tr>\n",
       "    <tr>\n",
       "      <th>3</th>\n",
       "      <td>I have mixed feelings about my experience.</td>\n",
       "      <td>5</td>\n",
       "    </tr>\n",
       "    <tr>\n",
       "      <th>4</th>\n",
       "      <td>The healthcare provider was excellent. I had a...</td>\n",
       "      <td>3</td>\n",
       "    </tr>\n",
       "    <tr>\n",
       "      <th>...</th>\n",
       "      <td>...</td>\n",
       "      <td>...</td>\n",
       "    </tr>\n",
       "    <tr>\n",
       "      <th>995</th>\n",
       "      <td>My experience was terrible. I would not recomm...</td>\n",
       "      <td>5</td>\n",
       "    </tr>\n",
       "    <tr>\n",
       "      <th>996</th>\n",
       "      <td>The service was disappointing. I won't be comi...</td>\n",
       "      <td>4</td>\n",
       "    </tr>\n",
       "    <tr>\n",
       "      <th>997</th>\n",
       "      <td>The service was okay, but nothing exceptional.</td>\n",
       "      <td>3</td>\n",
       "    </tr>\n",
       "    <tr>\n",
       "      <th>998</th>\n",
       "      <td>I have mixed feelings about my experience.</td>\n",
       "      <td>5</td>\n",
       "    </tr>\n",
       "    <tr>\n",
       "      <th>999</th>\n",
       "      <td>The staff was caring and attentive. I couldn't...</td>\n",
       "      <td>4</td>\n",
       "    </tr>\n",
       "  </tbody>\n",
       "</table>\n",
       "<p>1000 rows × 2 columns</p>\n",
       "</div>"
      ],
      "text/plain": [
       "                                           Review_Text  Rating\n",
       "0          I have mixed feelings about my experience.        4\n",
       "1    The staff was caring and attentive. I couldn't...       5\n",
       "2          I have mixed feelings about my experience.        5\n",
       "3          I have mixed feelings about my experience.        5\n",
       "4    The healthcare provider was excellent. I had a...       3\n",
       "..                                                 ...     ...\n",
       "995  My experience was terrible. I would not recomm...       5\n",
       "996  The service was disappointing. I won't be comi...       4\n",
       "997    The service was okay, but nothing exceptional.        3\n",
       "998        I have mixed feelings about my experience.        5\n",
       "999  The staff was caring and attentive. I couldn't...       4\n",
       "\n",
       "[1000 rows x 2 columns]"
      ]
     },
     "execution_count": 3,
     "metadata": {},
     "output_type": "execute_result"
    }
   ],
   "source": [
    "# Read the dataset from Github repositary using pandas\n",
    "df=pd.read_csv(\"https://raw.githubusercontent.com/SrinivasanM7/NLP-Sentiment-Analysis-on-Healthcare-Reviews/main/healthcare_reviews.csv\")\n",
    "df"
   ]
  },
  {
   "cell_type": "markdown",
   "id": "50e217c5-46ab-4914-88ee-7b8de6c84c53",
   "metadata": {
    "jp-MarkdownHeadingCollapsed": true
   },
   "source": [
    "## Data Cleaning :"
   ]
  },
  {
   "cell_type": "code",
   "execution_count": 4,
   "id": "3acb553d",
   "metadata": {},
   "outputs": [
    {
     "data": {
      "text/plain": [
       "(1000, 2)"
      ]
     },
     "execution_count": 4,
     "metadata": {},
     "output_type": "execute_result"
    }
   ],
   "source": [
    "df.shape"
   ]
  },
  {
   "cell_type": "code",
   "execution_count": 5,
   "id": "24a8796c",
   "metadata": {},
   "outputs": [
    {
     "name": "stdout",
     "output_type": "stream",
     "text": [
      "<class 'pandas.core.frame.DataFrame'>\n",
      "RangeIndex: 1000 entries, 0 to 999\n",
      "Data columns (total 2 columns):\n",
      " #   Column       Non-Null Count  Dtype \n",
      "---  ------       --------------  ----- \n",
      " 0   Review_Text  900 non-null    object\n",
      " 1   Rating       1000 non-null   int64 \n",
      "dtypes: int64(1), object(1)\n",
      "memory usage: 15.8+ KB\n"
     ]
    }
   ],
   "source": [
    "df.info()"
   ]
  },
  {
   "cell_type": "code",
   "execution_count": 6,
   "id": "0e394717",
   "metadata": {},
   "outputs": [
    {
     "data": {
      "text/html": [
       "<div>\n",
       "<style scoped>\n",
       "    .dataframe tbody tr th:only-of-type {\n",
       "        vertical-align: middle;\n",
       "    }\n",
       "\n",
       "    .dataframe tbody tr th {\n",
       "        vertical-align: top;\n",
       "    }\n",
       "\n",
       "    .dataframe thead th {\n",
       "        text-align: right;\n",
       "    }\n",
       "</style>\n",
       "<table border=\"1\" class=\"dataframe\">\n",
       "  <thead>\n",
       "    <tr style=\"text-align: right;\">\n",
       "      <th></th>\n",
       "      <th>count</th>\n",
       "      <th>mean</th>\n",
       "      <th>std</th>\n",
       "      <th>min</th>\n",
       "      <th>25%</th>\n",
       "      <th>50%</th>\n",
       "      <th>75%</th>\n",
       "      <th>max</th>\n",
       "    </tr>\n",
       "  </thead>\n",
       "  <tbody>\n",
       "    <tr>\n",
       "      <th>Rating</th>\n",
       "      <td>1000.0</td>\n",
       "      <td>3.058</td>\n",
       "      <td>1.425015</td>\n",
       "      <td>1.0</td>\n",
       "      <td>2.0</td>\n",
       "      <td>3.0</td>\n",
       "      <td>4.0</td>\n",
       "      <td>5.0</td>\n",
       "    </tr>\n",
       "  </tbody>\n",
       "</table>\n",
       "</div>"
      ],
      "text/plain": [
       "         count   mean       std  min  25%  50%  75%  max\n",
       "Rating  1000.0  3.058  1.425015  1.0  2.0  3.0  4.0  5.0"
      ]
     },
     "execution_count": 6,
     "metadata": {},
     "output_type": "execute_result"
    }
   ],
   "source": [
    "df.describe().T"
   ]
  },
  {
   "cell_type": "code",
   "execution_count": 7,
   "id": "9745744a-0ead-4d9b-9e3d-5f8e2812bc9d",
   "metadata": {},
   "outputs": [
    {
     "data": {
      "text/plain": [
       "Review_Text    100\n",
       "Rating           0\n",
       "dtype: int64"
      ]
     },
     "execution_count": 7,
     "metadata": {},
     "output_type": "execute_result"
    }
   ],
   "source": [
    "df.isnull().sum()"
   ]
  },
  {
   "cell_type": "code",
   "execution_count": 8,
   "id": "79fc77de-590b-45a7-9ce2-4e532a93d0e4",
   "metadata": {},
   "outputs": [
    {
     "data": {
      "text/plain": [
       "Review_Text    0\n",
       "Rating         0\n",
       "dtype: int64"
      ]
     },
     "execution_count": 8,
     "metadata": {},
     "output_type": "execute_result"
    }
   ],
   "source": [
    "# Handling Null values\n",
    "df['Review_Text'] = df['Review_Text'].fillna('No review available')\n",
    "df.isnull().sum()"
   ]
  },
  {
   "cell_type": "markdown",
   "id": "de6162aa",
   "metadata": {},
   "source": [
    "## Text Preprocessing"
   ]
  },
  {
   "cell_type": "markdown",
   "id": "a05788ac",
   "metadata": {},
   "source": [
    "#### Convert Review_Text to Lowercase"
   ]
  },
  {
   "cell_type": "code",
   "execution_count": 9,
   "id": "6ca595d4-2c0e-4f89-98ee-ec620ac8b8d1",
   "metadata": {},
   "outputs": [
    {
     "data": {
      "text/plain": [
       "0            i have mixed feelings about my experience. \n",
       "1      the staff was caring and attentive. i couldn't...\n",
       "2            i have mixed feelings about my experience. \n",
       "3            i have mixed feelings about my experience. \n",
       "4      the healthcare provider was excellent. i had a...\n",
       "                             ...                        \n",
       "995    my experience was terrible. i would not recomm...\n",
       "996    the service was disappointing. i won't be comi...\n",
       "997      the service was okay, but nothing exceptional. \n",
       "998          i have mixed feelings about my experience. \n",
       "999    the staff was caring and attentive. i couldn't...\n",
       "Name: Review_Text, Length: 1000, dtype: object"
      ]
     },
     "execution_count": 9,
     "metadata": {},
     "output_type": "execute_result"
    }
   ],
   "source": [
    "# Convert Review_Text to Lowercase\n",
    "df['Review_Text']=df['Review_Text'].str.lower()\n",
    "df['Review_Text']"
   ]
  },
  {
   "cell_type": "markdown",
   "id": "030f49de",
   "metadata": {},
   "source": [
    "#### Removing special characters, punctuations and numbers"
   ]
  },
  {
   "cell_type": "code",
   "execution_count": 10,
   "id": "18370c4b",
   "metadata": {},
   "outputs": [
    {
     "name": "stderr",
     "output_type": "stream",
     "text": [
      "<>:2: SyntaxWarning: invalid escape sequence '\\s'\n",
      "<>:2: SyntaxWarning: invalid escape sequence '\\s'\n",
      "C:\\Users\\ELCOT\\AppData\\Local\\Temp\\ipykernel_9172\\2826228942.py:2: SyntaxWarning: invalid escape sequence '\\s'\n",
      "  df['Review_Text'] = df['Review_Text'].apply(lambda x: re.sub('[^A-Za-z\\s]', '', x))\n"
     ]
    },
    {
     "data": {
      "text/plain": [
       "0             i have mixed feelings about my experience \n",
       "1      the staff was caring and attentive i couldnt b...\n",
       "2             i have mixed feelings about my experience \n",
       "3             i have mixed feelings about my experience \n",
       "4      the healthcare provider was excellent i had a ...\n",
       "                             ...                        \n",
       "995    my experience was terrible i would not recomme...\n",
       "996    the service was disappointing i wont be coming...\n",
       "997        the service was okay but nothing exceptional \n",
       "998           i have mixed feelings about my experience \n",
       "999    the staff was caring and attentive i couldnt b...\n",
       "Name: Review_Text, Length: 1000, dtype: object"
      ]
     },
     "execution_count": 10,
     "metadata": {},
     "output_type": "execute_result"
    }
   ],
   "source": [
    "# Removing special characters, punctuations and numbers\n",
    "df['Review_Text'] = df['Review_Text'].apply(lambda x: re.sub('[^A-Za-z\\s]', '', x))\n",
    "df['Review_Text']"
   ]
  },
  {
   "cell_type": "markdown",
   "id": "1af66fd9",
   "metadata": {},
   "source": [
    "#### Tokenization"
   ]
  },
  {
   "cell_type": "code",
   "execution_count": 11,
   "id": "b014bfaa",
   "metadata": {},
   "outputs": [
    {
     "data": {
      "text/plain": [
       "0      [i, have, mixed, feelings, about, my, experience]\n",
       "1      [the, staff, was, caring, and, attentive, i, c...\n",
       "2      [i, have, mixed, feelings, about, my, experience]\n",
       "3      [i, have, mixed, feelings, about, my, experience]\n",
       "4      [the, healthcare, provider, was, excellent, i,...\n",
       "                             ...                        \n",
       "995    [my, experience, was, terrible, i, would, not,...\n",
       "996    [the, service, was, disappointing, i, wont, be...\n",
       "997    [the, service, was, okay, but, nothing, except...\n",
       "998    [i, have, mixed, feelings, about, my, experience]\n",
       "999    [the, staff, was, caring, and, attentive, i, c...\n",
       "Name: Tokenized_Review_Text, Length: 1000, dtype: object"
      ]
     },
     "execution_count": 11,
     "metadata": {},
     "output_type": "execute_result"
    }
   ],
   "source": [
    "# Tokenization\n",
    "df['Tokenized_Review_Text']=df.apply(lambda row:word_tokenize(row['Review_Text']),axis=1)\n",
    "df['Tokenized_Review_Text']"
   ]
  },
  {
   "cell_type": "markdown",
   "id": "9d7eb568",
   "metadata": {},
   "source": [
    "#### Stop words removal"
   ]
  },
  {
   "cell_type": "code",
   "execution_count": 12,
   "id": "63f1496c-d69f-463a-977c-873f2946dcc4",
   "metadata": {},
   "outputs": [
    {
     "data": {
      "text/plain": [
       "0                        [mixed, feelings, experience]\n",
       "1         [staff, caring, attentive, couldnt, happier]\n",
       "2                        [mixed, feelings, experience]\n",
       "3                        [mixed, feelings, experience]\n",
       "4    [healthcare, provider, excellent, great, exper...\n",
       "Name: Stopwords_Removed, dtype: object"
      ]
     },
     "execution_count": 12,
     "metadata": {},
     "output_type": "execute_result"
    }
   ],
   "source": [
    "# Stop words removal\n",
    "stop_words = set(stopwords.words(\"english\"))\n",
    "df['Stopwords_Removed'] = df['Tokenized_Review_Text'].apply(lambda x: [word for word in x if word not in stop_words])\n",
    "df['Stopwords_Removed'].head()"
   ]
  },
  {
   "cell_type": "markdown",
   "id": "a9669195",
   "metadata": {},
   "source": [
    "#### Lemmatization"
   ]
  },
  {
   "cell_type": "code",
   "execution_count": 13,
   "id": "4d0995e0-8e8b-4629-9c93-790945d6c50b",
   "metadata": {},
   "outputs": [
    {
     "data": {
      "text/plain": [
       "0                         [mixed, feeling, experience]\n",
       "1         [staff, caring, attentive, couldnt, happier]\n",
       "2                         [mixed, feeling, experience]\n",
       "3                         [mixed, feeling, experience]\n",
       "4    [healthcare, provider, excellent, great, exper...\n",
       "Name: Lemmatized_Reviews, dtype: object"
      ]
     },
     "execution_count": 13,
     "metadata": {},
     "output_type": "execute_result"
    }
   ],
   "source": [
    "# Lemmatization\n",
    "lemmatizer = WordNetLemmatizer()\n",
    "df['Lemmatized_Reviews'] = df['Stopwords_Removed'].apply(lambda x: [lemmatizer.lemmatize(word) for word in x])\n",
    "df['Lemmatized_Reviews'].head()"
   ]
  },
  {
   "cell_type": "markdown",
   "id": "4058a777",
   "metadata": {},
   "source": [
    "#### Stemming"
   ]
  },
  {
   "cell_type": "code",
   "execution_count": 14,
   "id": "10444e65",
   "metadata": {},
   "outputs": [
    {
     "data": {
      "text/plain": [
       "0                          [mix, feel, experi]\n",
       "1      [staff, care, attent, couldnt, happier]\n",
       "2                          [mix, feel, experi]\n",
       "3                          [mix, feel, experi]\n",
       "4    [healthcar, provid, excel, great, experi]\n",
       "Name: Stemmed_Reviews, dtype: object"
      ]
     },
     "execution_count": 14,
     "metadata": {},
     "output_type": "execute_result"
    }
   ],
   "source": [
    "stemmer = PorterStemmer()\n",
    "df['Stemmed_Reviews'] = df['Lemmatized_Reviews'].apply(lambda x: [stemmer.stem(word) for word in x])\n",
    "df['Stemmed_Reviews'].head()"
   ]
  },
  {
   "cell_type": "markdown",
   "id": "8230f3c9",
   "metadata": {},
   "source": [
    "#### POS Tagging"
   ]
  },
  {
   "cell_type": "code",
   "execution_count": 15,
   "id": "8a226c84",
   "metadata": {},
   "outputs": [
    {
     "data": {
      "text/plain": [
       "0         [(mixed, JJ), (feeling, NN), (experience, NN)]\n",
       "1      [(staff, NN), (caring, VBG), (attentive, JJ), ...\n",
       "2         [(mixed, JJ), (feeling, NN), (experience, NN)]\n",
       "3         [(mixed, JJ), (feeling, NN), (experience, NN)]\n",
       "4      [(healthcare, NN), (provider, NN), (excellent,...\n",
       "                             ...                        \n",
       "995    [(experience, NN), (terrible, NN), (would, MD)...\n",
       "996    [(service, NN), (disappointing, VBG), (wont, N...\n",
       "997    [(service, NN), (okay, MD), (nothing, NN), (ex...\n",
       "998       [(mixed, JJ), (feeling, NN), (experience, NN)]\n",
       "999    [(staff, NN), (caring, VBG), (attentive, JJ), ...\n",
       "Name: POS_Tagged, Length: 1000, dtype: object"
      ]
     },
     "execution_count": 15,
     "metadata": {},
     "output_type": "execute_result"
    }
   ],
   "source": [
    "# POS Tagging\n",
    "df['POS_Tagged'] = df['Lemmatized_Reviews'].apply(nltk.pos_tag)\n",
    "df['POS_Tagged']"
   ]
  },
  {
   "cell_type": "markdown",
   "id": "4b88d13b",
   "metadata": {},
   "source": [
    "#### Convert List to String - Lemmatized column"
   ]
  },
  {
   "cell_type": "code",
   "execution_count": 16,
   "id": "f1832607-e845-4c29-b2bb-3d9d2f7c62eb",
   "metadata": {},
   "outputs": [
    {
     "data": {
      "text/plain": [
       "0                            mixed feeling experience\n",
       "1              staff caring attentive couldnt happier\n",
       "2                            mixed feeling experience\n",
       "3                            mixed feeling experience\n",
       "4      healthcare provider excellent great experience\n",
       "                            ...                      \n",
       "995      experience terrible would recommend provider\n",
       "996            service disappointing wont coming back\n",
       "997                  service okay nothing exceptional\n",
       "998                          mixed feeling experience\n",
       "999            staff caring attentive couldnt happier\n",
       "Name: Cleaned_Reviews, Length: 1000, dtype: object"
      ]
     },
     "execution_count": 16,
     "metadata": {},
     "output_type": "execute_result"
    }
   ],
   "source": [
    "# Convert List to String - Lemmatized column\n",
    "df['Cleaned_Reviews'] = df['Lemmatized_Reviews'].apply(\" \".join)\n",
    "df['Cleaned_Reviews']"
   ]
  },
  {
   "cell_type": "code",
   "execution_count": 17,
   "id": "542137ca",
   "metadata": {},
   "outputs": [
    {
     "data": {
      "text/html": [
       "<div>\n",
       "<style scoped>\n",
       "    .dataframe tbody tr th:only-of-type {\n",
       "        vertical-align: middle;\n",
       "    }\n",
       "\n",
       "    .dataframe tbody tr th {\n",
       "        vertical-align: top;\n",
       "    }\n",
       "\n",
       "    .dataframe thead th {\n",
       "        text-align: right;\n",
       "    }\n",
       "</style>\n",
       "<table border=\"1\" class=\"dataframe\">\n",
       "  <thead>\n",
       "    <tr style=\"text-align: right;\">\n",
       "      <th></th>\n",
       "      <th>Review_Text</th>\n",
       "      <th>Rating</th>\n",
       "      <th>Tokenized_Review_Text</th>\n",
       "      <th>Stopwords_Removed</th>\n",
       "      <th>Lemmatized_Reviews</th>\n",
       "      <th>Stemmed_Reviews</th>\n",
       "      <th>POS_Tagged</th>\n",
       "      <th>Cleaned_Reviews</th>\n",
       "    </tr>\n",
       "  </thead>\n",
       "  <tbody>\n",
       "    <tr>\n",
       "      <th>0</th>\n",
       "      <td>i have mixed feelings about my experience</td>\n",
       "      <td>4</td>\n",
       "      <td>[i, have, mixed, feelings, about, my, experience]</td>\n",
       "      <td>[mixed, feelings, experience]</td>\n",
       "      <td>[mixed, feeling, experience]</td>\n",
       "      <td>[mix, feel, experi]</td>\n",
       "      <td>[(mixed, JJ), (feeling, NN), (experience, NN)]</td>\n",
       "      <td>mixed feeling experience</td>\n",
       "    </tr>\n",
       "    <tr>\n",
       "      <th>1</th>\n",
       "      <td>the staff was caring and attentive i couldnt b...</td>\n",
       "      <td>5</td>\n",
       "      <td>[the, staff, was, caring, and, attentive, i, c...</td>\n",
       "      <td>[staff, caring, attentive, couldnt, happier]</td>\n",
       "      <td>[staff, caring, attentive, couldnt, happier]</td>\n",
       "      <td>[staff, care, attent, couldnt, happier]</td>\n",
       "      <td>[(staff, NN), (caring, VBG), (attentive, JJ), ...</td>\n",
       "      <td>staff caring attentive couldnt happier</td>\n",
       "    </tr>\n",
       "    <tr>\n",
       "      <th>2</th>\n",
       "      <td>i have mixed feelings about my experience</td>\n",
       "      <td>5</td>\n",
       "      <td>[i, have, mixed, feelings, about, my, experience]</td>\n",
       "      <td>[mixed, feelings, experience]</td>\n",
       "      <td>[mixed, feeling, experience]</td>\n",
       "      <td>[mix, feel, experi]</td>\n",
       "      <td>[(mixed, JJ), (feeling, NN), (experience, NN)]</td>\n",
       "      <td>mixed feeling experience</td>\n",
       "    </tr>\n",
       "    <tr>\n",
       "      <th>3</th>\n",
       "      <td>i have mixed feelings about my experience</td>\n",
       "      <td>5</td>\n",
       "      <td>[i, have, mixed, feelings, about, my, experience]</td>\n",
       "      <td>[mixed, feelings, experience]</td>\n",
       "      <td>[mixed, feeling, experience]</td>\n",
       "      <td>[mix, feel, experi]</td>\n",
       "      <td>[(mixed, JJ), (feeling, NN), (experience, NN)]</td>\n",
       "      <td>mixed feeling experience</td>\n",
       "    </tr>\n",
       "    <tr>\n",
       "      <th>4</th>\n",
       "      <td>the healthcare provider was excellent i had a ...</td>\n",
       "      <td>3</td>\n",
       "      <td>[the, healthcare, provider, was, excellent, i,...</td>\n",
       "      <td>[healthcare, provider, excellent, great, exper...</td>\n",
       "      <td>[healthcare, provider, excellent, great, exper...</td>\n",
       "      <td>[healthcar, provid, excel, great, experi]</td>\n",
       "      <td>[(healthcare, NN), (provider, NN), (excellent,...</td>\n",
       "      <td>healthcare provider excellent great experience</td>\n",
       "    </tr>\n",
       "  </tbody>\n",
       "</table>\n",
       "</div>"
      ],
      "text/plain": [
       "                                         Review_Text  Rating  \\\n",
       "0         i have mixed feelings about my experience        4   \n",
       "1  the staff was caring and attentive i couldnt b...       5   \n",
       "2         i have mixed feelings about my experience        5   \n",
       "3         i have mixed feelings about my experience        5   \n",
       "4  the healthcare provider was excellent i had a ...       3   \n",
       "\n",
       "                               Tokenized_Review_Text  \\\n",
       "0  [i, have, mixed, feelings, about, my, experience]   \n",
       "1  [the, staff, was, caring, and, attentive, i, c...   \n",
       "2  [i, have, mixed, feelings, about, my, experience]   \n",
       "3  [i, have, mixed, feelings, about, my, experience]   \n",
       "4  [the, healthcare, provider, was, excellent, i,...   \n",
       "\n",
       "                                   Stopwords_Removed  \\\n",
       "0                      [mixed, feelings, experience]   \n",
       "1       [staff, caring, attentive, couldnt, happier]   \n",
       "2                      [mixed, feelings, experience]   \n",
       "3                      [mixed, feelings, experience]   \n",
       "4  [healthcare, provider, excellent, great, exper...   \n",
       "\n",
       "                                  Lemmatized_Reviews  \\\n",
       "0                       [mixed, feeling, experience]   \n",
       "1       [staff, caring, attentive, couldnt, happier]   \n",
       "2                       [mixed, feeling, experience]   \n",
       "3                       [mixed, feeling, experience]   \n",
       "4  [healthcare, provider, excellent, great, exper...   \n",
       "\n",
       "                             Stemmed_Reviews  \\\n",
       "0                        [mix, feel, experi]   \n",
       "1    [staff, care, attent, couldnt, happier]   \n",
       "2                        [mix, feel, experi]   \n",
       "3                        [mix, feel, experi]   \n",
       "4  [healthcar, provid, excel, great, experi]   \n",
       "\n",
       "                                          POS_Tagged  \\\n",
       "0     [(mixed, JJ), (feeling, NN), (experience, NN)]   \n",
       "1  [(staff, NN), (caring, VBG), (attentive, JJ), ...   \n",
       "2     [(mixed, JJ), (feeling, NN), (experience, NN)]   \n",
       "3     [(mixed, JJ), (feeling, NN), (experience, NN)]   \n",
       "4  [(healthcare, NN), (provider, NN), (excellent,...   \n",
       "\n",
       "                                  Cleaned_Reviews  \n",
       "0                        mixed feeling experience  \n",
       "1          staff caring attentive couldnt happier  \n",
       "2                        mixed feeling experience  \n",
       "3                        mixed feeling experience  \n",
       "4  healthcare provider excellent great experience  "
      ]
     },
     "execution_count": 17,
     "metadata": {},
     "output_type": "execute_result"
    }
   ],
   "source": [
    "df.head()"
   ]
  },
  {
   "cell_type": "markdown",
   "id": "b3e9e673",
   "metadata": {},
   "source": [
    "#### Assigning  polarity"
   ]
  },
  {
   "cell_type": "code",
   "execution_count": 18,
   "id": "91885ba7",
   "metadata": {},
   "outputs": [
    {
     "data": {
      "text/plain": [
       "0      0.000000\n",
       "1      0.400000\n",
       "2      0.000000\n",
       "3      0.000000\n",
       "4      0.900000\n",
       "         ...   \n",
       "995   -1.000000\n",
       "996   -0.300000\n",
       "997    0.583333\n",
       "998    0.000000\n",
       "999    0.400000\n",
       "Name: Sentiment_Polarity, Length: 1000, dtype: float64"
      ]
     },
     "execution_count": 18,
     "metadata": {},
     "output_type": "execute_result"
    }
   ],
   "source": [
    "# Apply polarity to the 'Cleaned_Reviews' column\n",
    "df['Sentiment_Polarity'] = df['Cleaned_Reviews'].apply(lambda x: TextBlob((x)).sentiment.polarity)\n",
    "df['Sentiment_Polarity']"
   ]
  },
  {
   "cell_type": "code",
   "execution_count": 19,
   "metadata": {},
   "outputs": [
    {
     "data": {
      "text/plain": [
       "0      0\n",
       "1      1\n",
       "2      0\n",
       "3      0\n",
       "4      1\n",
       "      ..\n",
       "995   -1\n",
       "996   -1\n",
       "997    1\n",
       "998    0\n",
       "999    1\n",
       "Name: Sentiment, Length: 1000, dtype: int64"
      ]
     },
     "execution_count": 19,
     "metadata": {},
     "output_type": "execute_result"
    }
   ],
   "source": [
    "# Categorize sentiment into Positive, Neutral, and Negative\n",
    "def categorize_sentiment(polarity):\n",
    "    if polarity > 0:\n",
    "        return 1\n",
    "    elif polarity == 0:\n",
    "        return 0\n",
    "    else:\n",
    "        return -1\n",
    "\n",
    "# Apply the mapping function to create a new column 'Sentiment_Category'\n",
    "df['Sentiment'] = df['Sentiment_Polarity'].apply(categorize_sentiment)\n",
    "df['Sentiment']"
   ]
  },
  {
   "cell_type": "code",
   "execution_count": 20,
   "id": "c48f700e",
   "metadata": {},
   "outputs": [
    {
     "data": {
      "text/plain": [
       "Sentiment\n",
       " 1    515\n",
       "-1    387\n",
       " 0     98\n",
       "Name: count, dtype: int64"
      ]
     },
     "execution_count": 20,
     "metadata": {},
     "output_type": "execute_result"
    }
   ],
   "source": [
    "df['Sentiment'].value_counts()"
   ]
  },
  {
   "cell_type": "markdown",
   "id": "c6b1a4e9",
   "metadata": {},
   "source": [
    "##### In 'Sentiment' feature, the 'Neutral' count difference is very low. So we need to do oversampling to reduce the difference"
   ]
  },
  {
   "cell_type": "markdown",
   "id": "ae4715d5-afed-414f-a417-093c3e382076",
   "metadata": {
    "jp-MarkdownHeadingCollapsed": true
   },
   "source": [
    "## Sentiment Analysis Model Building :"
   ]
  },
  {
   "cell_type": "code",
   "execution_count": 21,
   "id": "d41a334d-f51b-4936-b9d2-01f4da4c3f13",
   "metadata": {},
   "outputs": [],
   "source": [
    "#'Cleaned' is the preprocessed text and 'Sentiment_Category' is the target label\n",
    "x=df['Cleaned_Reviews']\n",
    "y=df['Sentiment']"
   ]
  },
  {
   "cell_type": "code",
   "execution_count": 22,
   "id": "cdee0c53",
   "metadata": {},
   "outputs": [],
   "source": [
    "# Text vectorization using TF-IDF\n",
    "tfidf_vectorizer = TfidfVectorizer(max_features=5000)  # Adjust max_features as needed\n",
    "x_tfidf = tfidf_vectorizer.fit_transform(x)"
   ]
  },
  {
   "cell_type": "code",
   "execution_count": 23,
   "id": "c74b0035",
   "metadata": {},
   "outputs": [],
   "source": [
    "# Apply SMOTE to the training data\n",
    "smote = SMOTE(random_state=42)\n",
    "x_new, y_new = smote.fit_resample(x_tfidf, y)"
   ]
  },
  {
   "cell_type": "code",
   "execution_count": 24,
   "id": "ed0d205b",
   "metadata": {},
   "outputs": [
    {
     "data": {
      "text/plain": [
       "(1545, 2)"
      ]
     },
     "execution_count": 24,
     "metadata": {},
     "output_type": "execute_result"
    }
   ],
   "source": [
    "df_new = pd.DataFrame({'Cleaned_Reviews': x_new, 'Sentiment': y_new})\n",
    "df_new.shape"
   ]
  },
  {
   "cell_type": "code",
   "execution_count": 25,
   "metadata": {},
   "outputs": [
    {
     "data": {
      "text/plain": [
       "Sentiment\n",
       " 0    515\n",
       " 1    515\n",
       "-1    515\n",
       "Name: count, dtype: int64"
      ]
     },
     "execution_count": 25,
     "metadata": {},
     "output_type": "execute_result"
    }
   ],
   "source": [
    "df_new['Sentiment'].value_counts()"
   ]
  },
  {
   "cell_type": "code",
   "execution_count": 26,
   "id": "aa05bc51",
   "metadata": {},
   "outputs": [
    {
     "name": "stdout",
     "output_type": "stream",
     "text": [
      "Original dataset size: 1000\n",
      "Resampled dataset size: 1545\n"
     ]
    }
   ],
   "source": [
    "#Check the size of the resampled dataset\n",
    "print(\"Original dataset size:\", x.shape[0])\n",
    "print(\"Resampled dataset size:\", x_new.shape[0])"
   ]
  },
  {
   "cell_type": "code",
   "execution_count": 27,
   "id": "02896ba5",
   "metadata": {},
   "outputs": [
    {
     "data": {
      "text/html": [
       "<div>\n",
       "<style scoped>\n",
       "    .dataframe tbody tr th:only-of-type {\n",
       "        vertical-align: middle;\n",
       "    }\n",
       "\n",
       "    .dataframe tbody tr th {\n",
       "        vertical-align: top;\n",
       "    }\n",
       "\n",
       "    .dataframe thead th {\n",
       "        text-align: right;\n",
       "    }\n",
       "</style>\n",
       "<table border=\"1\" class=\"dataframe\">\n",
       "  <thead>\n",
       "    <tr style=\"text-align: right;\">\n",
       "      <th></th>\n",
       "      <th>Cleaned_Reviews</th>\n",
       "      <th>Sentiment</th>\n",
       "    </tr>\n",
       "  </thead>\n",
       "  <tbody>\n",
       "    <tr>\n",
       "      <th>0</th>\n",
       "      <td>(0, 12)\\t0.3461016023170191\\n  (0, 13)\\t0.66...</td>\n",
       "      <td>0</td>\n",
       "    </tr>\n",
       "    <tr>\n",
       "      <th>1</th>\n",
       "      <td>(0, 16)\\t0.4472135954999579\\n  (0, 8)\\t0.447...</td>\n",
       "      <td>1</td>\n",
       "    </tr>\n",
       "    <tr>\n",
       "      <th>2</th>\n",
       "      <td>(0, 12)\\t0.3461016023170191\\n  (0, 13)\\t0.66...</td>\n",
       "      <td>0</td>\n",
       "    </tr>\n",
       "    <tr>\n",
       "      <th>3</th>\n",
       "      <td>(0, 12)\\t0.3461016023170191\\n  (0, 13)\\t0.66...</td>\n",
       "      <td>0</td>\n",
       "    </tr>\n",
       "    <tr>\n",
       "      <th>4</th>\n",
       "      <td>(0, 15)\\t0.5420156283537017\\n  (0, 10)\\t0.54...</td>\n",
       "      <td>1</td>\n",
       "    </tr>\n",
       "  </tbody>\n",
       "</table>\n",
       "</div>"
      ],
      "text/plain": [
       "                                     Cleaned_Reviews  Sentiment\n",
       "0    (0, 12)\\t0.3461016023170191\\n  (0, 13)\\t0.66...          0\n",
       "1    (0, 16)\\t0.4472135954999579\\n  (0, 8)\\t0.447...          1\n",
       "2    (0, 12)\\t0.3461016023170191\\n  (0, 13)\\t0.66...          0\n",
       "3    (0, 12)\\t0.3461016023170191\\n  (0, 13)\\t0.66...          0\n",
       "4    (0, 15)\\t0.5420156283537017\\n  (0, 10)\\t0.54...          1"
      ]
     },
     "execution_count": 27,
     "metadata": {},
     "output_type": "execute_result"
    }
   ],
   "source": [
    "df_new.head()"
   ]
  },
  {
   "cell_type": "markdown",
   "id": "2d4e6bc7-9c46-4b9f-b732-76af9eaf5376",
   "metadata": {},
   "source": [
    "## Classification Method : Predicting Sentiment"
   ]
  },
  {
   "cell_type": "code",
   "execution_count": 28,
   "id": "2ed56fe8",
   "metadata": {},
   "outputs": [],
   "source": [
    "# Checking the accuracy of training and testing using metrics\n",
    "# algorithm.__name__  - it return the algorithm name\n",
    "\n",
    "def machine_learning_classification(x_new,y_new, algorithm):\n",
    "\n",
    "    x_train, x_test, y_train, y_test = train_test_split(x_new, y_new, test_size=0.2, random_state=42)\n",
    "    model = algorithm().fit(x_train, y_train)\n",
    "\n",
    "    y_pred_train = model.predict(x_train)\n",
    "    y_pred_test = model.predict(x_test)\n",
    "\n",
    "    accuracy_train = metrics.accuracy_score(y_train, y_pred_train)\n",
    "    accuracy_test = metrics.accuracy_score(y_test, y_pred_test)\n",
    "\n",
    "    accuracy_metrics = {'algorithm'    : algorithm.__name__,\n",
    "                        'accuracy_train': accuracy_train,\n",
    "                        'accuracy_test' : accuracy_test}   \n",
    "\n",
    "    return accuracy_metrics"
   ]
  },
  {
   "cell_type": "code",
   "execution_count": 29,
   "id": "964de5de",
   "metadata": {},
   "outputs": [
    {
     "name": "stdout",
     "output_type": "stream",
     "text": [
      "{'algorithm': 'LogisticRegression', 'accuracy_train': 1.0, 'accuracy_test': 1.0}\n",
      "{'algorithm': 'DecisionTreeClassifier', 'accuracy_train': 1.0, 'accuracy_test': 1.0}\n",
      "{'algorithm': 'ExtraTreesClassifier', 'accuracy_train': 1.0, 'accuracy_test': 1.0}\n",
      "{'algorithm': 'RandomForestClassifier', 'accuracy_train': 1.0, 'accuracy_test': 1.0}\n",
      "{'algorithm': 'AdaBoostClassifier', 'accuracy_train': 1.0, 'accuracy_test': 1.0}\n",
      "{'algorithm': 'GradientBoostingClassifier', 'accuracy_train': 1.0, 'accuracy_test': 1.0}\n"
     ]
    }
   ],
   "source": [
    "print(machine_learning_classification(x_new, y_new, LogisticRegression))\n",
    "print(machine_learning_classification(x_new, y_new, DecisionTreeClassifier))\n",
    "print(machine_learning_classification(x_new, y_new, ExtraTreesClassifier))\n",
    "print(machine_learning_classification(x_new, y_new, RandomForestClassifier))\n",
    "print(machine_learning_classification(x_new, y_new, AdaBoostClassifier))\n",
    "print(machine_learning_classification(x_new, y_new, GradientBoostingClassifier))"
   ]
  },
  {
   "cell_type": "code",
   "execution_count": 30,
   "id": "355c3cff",
   "metadata": {},
   "outputs": [],
   "source": [
    "# We got good accuracy in all the 6 models, lets check Classificaton report and Confusion matrix for 3 models"
   ]
  },
  {
   "cell_type": "markdown",
   "id": "ae1951a9",
   "metadata": {},
   "source": [
    "## Logistic Regression -  Model"
   ]
  },
  {
   "cell_type": "code",
   "execution_count": 31,
   "id": "61100dc5",
   "metadata": {},
   "outputs": [
    {
     "name": "stdout",
     "output_type": "stream",
     "text": [
      "Training Accuracy: 1.00\n",
      "\n",
      "Classification Report on Training data:\n",
      "              precision    recall  f1-score   support\n",
      "\n",
      "          -1       1.00      1.00      1.00       409\n",
      "           0       1.00      1.00      1.00       412\n",
      "           1       1.00      1.00      1.00       415\n",
      "\n",
      "    accuracy                           1.00      1236\n",
      "   macro avg       1.00      1.00      1.00      1236\n",
      "weighted avg       1.00      1.00      1.00      1236\n",
      "\n",
      "\n",
      "Confusion Matrix on Training data:\n",
      "[[409   0   0]\n",
      " [  0 412   0]\n",
      " [  0   0 415]]\n"
     ]
    }
   ],
   "source": [
    "#Logistic Regression model\n",
    "x_train, x_test, y_train, y_test = train_test_split(x_new, y_new, test_size=0.2, random_state=42)\n",
    "logreg_model = LogisticRegression()\n",
    "logreg_model.fit(x_train, y_train)\n",
    "\n",
    "# Predictions on the training set\n",
    "y_pred_train = logreg_model.predict(x_train)\n",
    "\n",
    "# Evaluate the model on training data\n",
    "accuracy_train = accuracy_score(y_train, y_pred_train)\n",
    "print(f\"Training Accuracy: {accuracy_train:.2f}\")\n",
    "\n",
    "print(\"\\nClassification Report on Training data:\")\n",
    "print(classification_report(y_train, y_pred_train))\n",
    "\n",
    "print(\"\\nConfusion Matrix on Training data:\")\n",
    "print(confusion_matrix(y_train, y_pred_train))"
   ]
  },
  {
   "cell_type": "code",
   "execution_count": 32,
   "id": "ed7d164e",
   "metadata": {},
   "outputs": [
    {
     "name": "stdout",
     "output_type": "stream",
     "text": [
      "Testing Accuracy: 1.00\n",
      "\n",
      "Classification Report on Testing data:\n",
      "              precision    recall  f1-score   support\n",
      "\n",
      "          -1       1.00      1.00      1.00       106\n",
      "           0       1.00      1.00      1.00       103\n",
      "           1       1.00      1.00      1.00       100\n",
      "\n",
      "    accuracy                           1.00       309\n",
      "   macro avg       1.00      1.00      1.00       309\n",
      "weighted avg       1.00      1.00      1.00       309\n",
      "\n",
      "\n",
      "Confusion Matrix on Testing data:\n",
      "[[106   0   0]\n",
      " [  0 103   0]\n",
      " [  0   0 100]]\n"
     ]
    }
   ],
   "source": [
    "# Predictions on the testing set\n",
    "y_pred_test = logreg_model.predict(x_test)\n",
    "\n",
    "# Evaluate the model on testing data\n",
    "accuracy_train = accuracy_score(y_test, y_pred_test)\n",
    "print(f\"Testing Accuracy: {accuracy_train:.2f}\")\n",
    "\n",
    "print(\"\\nClassification Report on Testing data:\")\n",
    "print(classification_report(y_test, y_pred_test))\n",
    "\n",
    "print(\"\\nConfusion Matrix on Testing data:\")\n",
    "print(confusion_matrix(y_test, y_pred_test))"
   ]
  },
  {
   "cell_type": "markdown",
   "id": "d5d3ad2c",
   "metadata": {},
   "source": [
    "## K - Nearest Neighbors - Model"
   ]
  },
  {
   "cell_type": "code",
   "execution_count": 33,
   "id": "5a3cef22",
   "metadata": {},
   "outputs": [
    {
     "name": "stdout",
     "output_type": "stream",
     "text": [
      "Training Accuracy: 1.00\n",
      "\n",
      "Classification Report on Training data:\n",
      "              precision    recall  f1-score   support\n",
      "\n",
      "          -1       1.00      1.00      1.00       409\n",
      "           0       1.00      1.00      1.00       412\n",
      "           1       1.00      1.00      1.00       415\n",
      "\n",
      "    accuracy                           1.00      1236\n",
      "   macro avg       1.00      1.00      1.00      1236\n",
      "weighted avg       1.00      1.00      1.00      1236\n",
      "\n",
      "\n",
      "Confusion Matrix on Training data:\n",
      "[[409   0   0]\n",
      " [  0 412   0]\n",
      " [  0   0 415]]\n"
     ]
    }
   ],
   "source": [
    "# K - Nearest Neighbors model\n",
    "x_train, x_test, y_train, y_test = train_test_split(x_new, y_new, test_size=0.2, random_state=42)\n",
    "knn_model = KNeighborsClassifier(n_neighbors=11)\n",
    "knn_model.fit(x_train, y_train)\n",
    "\n",
    "# Predictions on the training set\n",
    "y_pred_train = knn_model.predict(x_train)\n",
    "\n",
    "# Evaluate the model on training data\n",
    "accuracy_train = accuracy_score(y_train, y_pred_train)\n",
    "print(f\"Training Accuracy: {accuracy_train:.2f}\")\n",
    "\n",
    "print(\"\\nClassification Report on Training data:\")\n",
    "print(classification_report(y_train, y_pred_train))\n",
    "\n",
    "print(\"\\nConfusion Matrix on Training data:\")\n",
    "print(confusion_matrix(y_train, y_pred_train))"
   ]
  },
  {
   "cell_type": "code",
   "execution_count": 34,
   "id": "390999d9",
   "metadata": {},
   "outputs": [
    {
     "name": "stdout",
     "output_type": "stream",
     "text": [
      "Testing Accuracy: 1.00\n",
      "\n",
      "Classification Report on Testing data:\n",
      "              precision    recall  f1-score   support\n",
      "\n",
      "          -1       1.00      1.00      1.00       106\n",
      "           0       1.00      1.00      1.00       103\n",
      "           1       1.00      1.00      1.00       100\n",
      "\n",
      "    accuracy                           1.00       309\n",
      "   macro avg       1.00      1.00      1.00       309\n",
      "weighted avg       1.00      1.00      1.00       309\n",
      "\n",
      "\n",
      "Confusion Matrix on Testing data:\n",
      "[[106   0   0]\n",
      " [  0 103   0]\n",
      " [  0   0 100]]\n"
     ]
    }
   ],
   "source": [
    "# Predictions on the testing set\n",
    "y_pred_test = knn_model.predict(x_test)\n",
    "\n",
    "# Evaluate the model on testing data\n",
    "accuracy_train = accuracy_score(y_test, y_pred_test)\n",
    "print(f\"Testing Accuracy: {accuracy_train:.2f}\")\n",
    "\n",
    "print(\"\\nClassification Report on Testing data:\")\n",
    "print(classification_report(y_test, y_pred_test))\n",
    "\n",
    "print(\"\\nConfusion Matrix on Testing data:\")\n",
    "print(confusion_matrix(y_test, y_pred_test))"
   ]
  },
  {
   "cell_type": "markdown",
   "id": "b0915b3e",
   "metadata": {},
   "source": [
    "## Support Vector Machine - Model"
   ]
  },
  {
   "cell_type": "code",
   "execution_count": 35,
   "id": "7cc6f7ea",
   "metadata": {},
   "outputs": [
    {
     "name": "stdout",
     "output_type": "stream",
     "text": [
      "Training Accuracy: 1.00\n",
      "\n",
      "Classification Report on Training data:\n",
      "              precision    recall  f1-score   support\n",
      "\n",
      "          -1       1.00      1.00      1.00       409\n",
      "           0       1.00      1.00      1.00       412\n",
      "           1       1.00      1.00      1.00       415\n",
      "\n",
      "    accuracy                           1.00      1236\n",
      "   macro avg       1.00      1.00      1.00      1236\n",
      "weighted avg       1.00      1.00      1.00      1236\n",
      "\n",
      "\n",
      "Confusion Matrix on Training data:\n",
      "[[409   0   0]\n",
      " [  0 412   0]\n",
      " [  0   0 415]]\n"
     ]
    }
   ],
   "source": [
    "# Support Vector Machine model\n",
    "x_train, x_test, y_train, y_test = train_test_split(x_new, y_new, test_size=0.2, random_state=42)\n",
    "svc_model = SVC()\n",
    "svc_model.fit(x_train, y_train)\n",
    "\n",
    "# Predictions on the training set\n",
    "y_pred_train = knn_model.predict(x_train)\n",
    "\n",
    "# Evaluate the model on training data\n",
    "accuracy_train = accuracy_score(y_train, y_pred_train)\n",
    "print(f\"Training Accuracy: {accuracy_train:.2f}\")\n",
    "\n",
    "print(\"\\nClassification Report on Training data:\")\n",
    "print(classification_report(y_train, y_pred_train))\n",
    "\n",
    "print(\"\\nConfusion Matrix on Training data:\")\n",
    "print(confusion_matrix(y_train, y_pred_train))"
   ]
  },
  {
   "cell_type": "code",
   "execution_count": 36,
   "id": "291fd6ba",
   "metadata": {},
   "outputs": [
    {
     "name": "stdout",
     "output_type": "stream",
     "text": [
      "Testing Accuracy: 1.00\n",
      "\n",
      "Classification Report on Testing data:\n",
      "              precision    recall  f1-score   support\n",
      "\n",
      "          -1       1.00      1.00      1.00       106\n",
      "           0       1.00      1.00      1.00       103\n",
      "           1       1.00      1.00      1.00       100\n",
      "\n",
      "    accuracy                           1.00       309\n",
      "   macro avg       1.00      1.00      1.00       309\n",
      "weighted avg       1.00      1.00      1.00       309\n",
      "\n",
      "\n",
      "Confusion Matrix on Testing data:\n",
      "[[106   0   0]\n",
      " [  0 103   0]\n",
      " [  0   0 100]]\n"
     ]
    }
   ],
   "source": [
    "# Predictions on the testing set\n",
    "y_pred_test = svc_model.predict(x_test)\n",
    "\n",
    "# Evaluate the model on testing data\n",
    "accuracy_train = accuracy_score(y_test, y_pred_test)\n",
    "print(f\"Testing Accuracy: {accuracy_train:.2f}\")\n",
    "\n",
    "print(\"\\nClassification Report on Testing data:\")\n",
    "print(classification_report(y_test, y_pred_test))\n",
    "\n",
    "print(\"\\nConfusion Matrix on Testing data:\")\n",
    "print(confusion_matrix(y_test, y_pred_test))"
   ]
  },
  {
   "cell_type": "code",
   "execution_count": 37,
   "id": "e9404cea",
   "metadata": {},
   "outputs": [],
   "source": [
    "# All models achieved perfect accuracy on the training and testing data, with precision, recall, and F1-score all equal to 1.0 for each class.\n",
    "# The confusion matrix also indicates that the model made correct predictions for all instances in the training set.\n",
    "# While achieving high accuracy on the training data is a positive sign.\n",
    "# But it doesn't guarantee the same level of performance on new, unseen data, leading to Overfitting. \n",
    "\n",
    "# Overfitting is when a model performs exceptionally well on the training set but fails to generalize to new instances.\n",
    "# So performing the following steps to handle overfitting: Cross-validation on Logistic regression, K-NN and SVM Models"
   ]
  },
  {
   "cell_type": "markdown",
   "id": "bb826a4b",
   "metadata": {},
   "source": [
    "### Representation of Results"
   ]
  },
  {
   "cell_type": "code",
   "execution_count": 38,
   "id": "a562ecfc",
   "metadata": {},
   "outputs": [
    {
     "name": "stdout",
     "output_type": "stream",
     "text": [
      "                    Model  Accuracy  Precision  Recall  F1 Score\n",
      "0     Logistic_Regression       1.0        1.0     1.0       1.0\n",
      "1     K-Nearest Neighbors       1.0        1.0     1.0       1.0\n",
      "2  Support Vector Machine       1.0        1.0     1.0       1.0\n"
     ]
    }
   ],
   "source": [
    "# Multiple models\n",
    "results_data = {'Model': ['Logistic_Regression', 'K-Nearest Neighbors', 'Support Vector Machine'],\n",
    "                'Accuracy': [1.00, 1.00, 1.00],\n",
    "                'Precision': [1.00, 1.00, 1.00],\n",
    "                'Recall': [1.00, 1.00, 1.00],\n",
    "                'F1 Score': [1.00, 1.00, 1.00]}\n",
    "\n",
    "df_results = pd.DataFrame(results_data)\n",
    "\n",
    "# Display the DataFrame\n",
    "print(df_results)"
   ]
  },
  {
   "cell_type": "markdown",
   "id": "0fac953f",
   "metadata": {},
   "source": [
    "### Cross-Validation on Logistic Regression Model"
   ]
  },
  {
   "cell_type": "code",
   "execution_count": 39,
   "metadata": {},
   "outputs": [
    {
     "name": "stdout",
     "output_type": "stream",
     "text": [
      "Cross-Validation Scores on Training Data: [1. 1. 1. 1. 1.]\n",
      "Mean Accuracy on Training Data: 1.0\n",
      "\n",
      "Cross-Validation Scores on Testing Data: [1. 1. 1. 1. 1.]\n",
      "Mean Accuracy on Testing Data: 1.0\n"
     ]
    }
   ],
   "source": [
    "from sklearn.model_selection import cross_val_score\n",
    "\n",
    "# Logistic regression model\n",
    "logreg_model = LogisticRegression()\n",
    "\n",
    "# Perform 5-fold cross-validation on training data\n",
    "cv_scores_train = cross_val_score(logreg_model, x_train, y_train, cv=5, scoring='accuracy')\n",
    "\n",
    "# Perform 5-fold cross-validation on testing data\n",
    "cv_scores_test = cross_val_score(logreg_model, x_test, y_test, cv=5, scoring='accuracy')\n",
    "\n",
    "# Display cross-validation scores\n",
    "print(\"Cross-Validation Scores on Training Data:\", cv_scores_train)\n",
    "print(\"Mean Accuracy on Training Data:\", cv_scores_train.mean())\n",
    "\n",
    "print(\"\\nCross-Validation Scores on Testing Data:\", cv_scores_test)\n",
    "print(\"Mean Accuracy on Testing Data:\", cv_scores_test.mean())"
   ]
  },
  {
   "cell_type": "markdown",
   "id": "a0d5f07a",
   "metadata": {},
   "source": [
    "### Cross-Validation on K-Nearest Neighbors Model"
   ]
  },
  {
   "cell_type": "code",
   "execution_count": 40,
   "id": "fe1c3c93",
   "metadata": {},
   "outputs": [
    {
     "name": "stdout",
     "output_type": "stream",
     "text": [
      "Cross-Validation Scores on Training Data: [1. 1. 1. 1. 1.]\n",
      "Mean Accuracy on Training Data: 1.0\n",
      "\n",
      "Cross-Validation Scores on Testing Data: [1. 1. 1. 1. 1.]\n",
      "Mean Accuracy on Testing Data: 1.0\n"
     ]
    }
   ],
   "source": [
    "# K-Nearest Neighbors model\n",
    "knn_model = KNeighborsClassifier()\n",
    "\n",
    "# Perform 5-fold cross-validation on training data\n",
    "cv_scores_train = cross_val_score(knn_model, x_train, y_train, cv=5, scoring='accuracy')\n",
    "\n",
    "# Perform 5-fold cross-validation on testing data\n",
    "cv_scores_test = cross_val_score(knn_model, x_test, y_test, cv=5, scoring='accuracy')\n",
    "\n",
    "# Display cross-validation scores\n",
    "print(\"Cross-Validation Scores on Training Data:\", cv_scores_train)\n",
    "print(\"Mean Accuracy on Training Data:\", cv_scores_train.mean())\n",
    "\n",
    "print(\"\\nCross-Validation Scores on Testing Data:\", cv_scores_test)\n",
    "print(\"Mean Accuracy on Testing Data:\", cv_scores_test.mean())"
   ]
  },
  {
   "cell_type": "markdown",
   "id": "0f2e7c72",
   "metadata": {},
   "source": [
    "### Cross-Validation on Support Vector Machine Model"
   ]
  },
  {
   "cell_type": "code",
   "execution_count": 41,
   "id": "f442cdcf",
   "metadata": {},
   "outputs": [
    {
     "name": "stdout",
     "output_type": "stream",
     "text": [
      "Cross-Validation Scores on Training Data: [1. 1. 1. 1. 1.]\n",
      "Mean Accuracy on Training Data: 1.0\n",
      "\n",
      "Cross-Validation Scores on Testing Data: [1. 1. 1. 1. 1.]\n",
      "Mean Accuracy on Testing Data: 1.0\n"
     ]
    }
   ],
   "source": [
    "# Support Vector Machine model\n",
    "svc_model = SVC()\n",
    "\n",
    "# Perform 5-fold cross-validation on training data\n",
    "cv_scores_train = cross_val_score(svc_model, x_train, y_train, cv=5, scoring='accuracy')\n",
    "\n",
    "# Perform 5-fold cross-validation on testing data\n",
    "cv_scores_test = cross_val_score(svc_model, x_test, y_test, cv=5, scoring='accuracy')\n",
    "\n",
    "# Display cross-validation scores\n",
    "print(\"Cross-Validation Scores on Training Data:\", cv_scores_train)\n",
    "print(\"Mean Accuracy on Training Data:\", cv_scores_train.mean())\n",
    "\n",
    "print(\"\\nCross-Validation Scores on Testing Data:\", cv_scores_test)\n",
    "print(\"Mean Accuracy on Testing Data:\", cv_scores_test.mean())"
   ]
  },
  {
   "cell_type": "markdown",
   "id": "697dc0d6",
   "metadata": {},
   "source": [
    "## Visualization"
   ]
  },
  {
   "cell_type": "code",
   "execution_count": 42,
   "id": "628bf203",
   "metadata": {},
   "outputs": [
    {
     "data": {
      "image/png": "[encoded data removed]",
      "text/plain": [
       "<Figure size 600x400 with 2 Axes>"
      ]
     },
     "metadata": {},
     "output_type": "display_data"
    }
   ],
   "source": [
    "# Confusion Matrix\n",
    "cm = confusion_matrix(y_test, y_pred_test)\n",
    "\n",
    "# Plotting the Confusion Matrix Heatmap\n",
    "plt.figure(figsize=(6, 4))\n",
    "sns.heatmap(cm, annot=True, fmt=\"d\", cmap=\"Greens\", xticklabels=[-1,0,1], yticklabels=[-1,0,1])\n",
    "plt.title(\"Confusion Matrix\")\n",
    "plt.xlabel(\"Predicted Label\")\n",
    "plt.ylabel(\"True Label\")\n",
    "plt.show()"
   ]
  },
  {
   "cell_type": "code",
   "execution_count": 43,
   "id": "22c3c936",
   "metadata": {},
   "outputs": [
    {
     "data": {
      "image/png": "[encoded data removed]",
      "text/plain": [
       "<Figure size 600x400 with 1 Axes>"
      ]
     },
     "metadata": {},
     "output_type": "display_data"
    }
   ],
   "source": [
    "# y contains sentiment labels\n",
    "sentiment_distribution = y.value_counts()\n",
    "\n",
    "# Plot the distribution before SMOTE\n",
    "plt.figure(figsize=(6, 4))\n",
    "ax = sentiment_distribution.plot(kind='bar', color='green')\n",
    "\n",
    "# Add frequency values on top of each bar\n",
    "for i, v in enumerate(sentiment_distribution):\n",
    "    ax.text(i, v + 0.1, str(v), ha='center', va='bottom')\n",
    "\n",
    "plt.title('Sentiment Distribution')\n",
    "plt.xlabel('Sentiment')\n",
    "plt.ylabel('Frequency')\n",
    "plt.xticks(rotation=0)  # Rotate x-axis labels if needed\n",
    "plt.show()"
   ]
  },
  {
   "cell_type": "code",
   "execution_count": 44,
   "id": "80b3e23d",
   "metadata": {},
   "outputs": [
    {
     "data": {
      "image/png": "[encoded data removed]",
      "text/plain": [
       "<Figure size 800x500 with 1 Axes>"
      ]
     },
     "metadata": {},
     "output_type": "display_data"
    }
   ],
   "source": [
    "# Concatenate all the strings into one\n",
    "all_words = \" \".join(df['Cleaned_Reviews'])\n",
    "\n",
    "# Generate the word cloud\n",
    "wordcloud = WordCloud(width=600, height=300, random_state=42, max_font_size=30, background_color='black').generate(all_words)\n",
    "\n",
    "# Plotting the word cloud\n",
    "plt.figure(figsize=(8, 5))\n",
    "plt.imshow(wordcloud, interpolation='bilinear')\n",
    "plt.axis('off')\n",
    "plt.title('Word Cloud based on Review Text')\n",
    "plt.show()\n"
   ]
  },
  {
   "cell_type": "code",
   "execution_count": 45,
   "id": "670cf2da",
   "metadata": {},
   "outputs": [
    {
     "data": {
      "text/html": [
       "<div>\n",
       "<style scoped>\n",
       "    .dataframe tbody tr th:only-of-type {\n",
       "        vertical-align: middle;\n",
       "    }\n",
       "\n",
       "    .dataframe tbody tr th {\n",
       "        vertical-align: top;\n",
       "    }\n",
       "\n",
       "    .dataframe thead th {\n",
       "        text-align: right;\n",
       "    }\n",
       "</style>\n",
       "<table border=\"1\" class=\"dataframe\">\n",
       "  <thead>\n",
       "    <tr style=\"text-align: right;\">\n",
       "      <th></th>\n",
       "      <th>Review_Text</th>\n",
       "      <th>Rating</th>\n",
       "      <th>Tokenized_Review_Text</th>\n",
       "      <th>Stopwords_Removed</th>\n",
       "      <th>Lemmatized_Reviews</th>\n",
       "      <th>Stemmed_Reviews</th>\n",
       "      <th>POS_Tagged</th>\n",
       "      <th>Cleaned_Reviews</th>\n",
       "      <th>Sentiment_Polarity</th>\n",
       "      <th>Sentiment</th>\n",
       "    </tr>\n",
       "  </thead>\n",
       "  <tbody>\n",
       "    <tr>\n",
       "      <th>0</th>\n",
       "      <td>i have mixed feelings about my experience</td>\n",
       "      <td>4</td>\n",
       "      <td>[i, have, mixed, feelings, about, my, experience]</td>\n",
       "      <td>[mixed, feelings, experience]</td>\n",
       "      <td>[mixed, feeling, experience]</td>\n",
       "      <td>[mix, feel, experi]</td>\n",
       "      <td>[(mixed, JJ), (feeling, NN), (experience, NN)]</td>\n",
       "      <td>mixed feeling experience</td>\n",
       "      <td>0.0</td>\n",
       "      <td>0</td>\n",
       "    </tr>\n",
       "    <tr>\n",
       "      <th>1</th>\n",
       "      <td>the staff was caring and attentive i couldnt b...</td>\n",
       "      <td>5</td>\n",
       "      <td>[the, staff, was, caring, and, attentive, i, c...</td>\n",
       "      <td>[staff, caring, attentive, couldnt, happier]</td>\n",
       "      <td>[staff, caring, attentive, couldnt, happier]</td>\n",
       "      <td>[staff, care, attent, couldnt, happier]</td>\n",
       "      <td>[(staff, NN), (caring, VBG), (attentive, JJ), ...</td>\n",
       "      <td>staff caring attentive couldnt happier</td>\n",
       "      <td>0.4</td>\n",
       "      <td>1</td>\n",
       "    </tr>\n",
       "    <tr>\n",
       "      <th>2</th>\n",
       "      <td>i have mixed feelings about my experience</td>\n",
       "      <td>5</td>\n",
       "      <td>[i, have, mixed, feelings, about, my, experience]</td>\n",
       "      <td>[mixed, feelings, experience]</td>\n",
       "      <td>[mixed, feeling, experience]</td>\n",
       "      <td>[mix, feel, experi]</td>\n",
       "      <td>[(mixed, JJ), (feeling, NN), (experience, NN)]</td>\n",
       "      <td>mixed feeling experience</td>\n",
       "      <td>0.0</td>\n",
       "      <td>0</td>\n",
       "    </tr>\n",
       "    <tr>\n",
       "      <th>3</th>\n",
       "      <td>i have mixed feelings about my experience</td>\n",
       "      <td>5</td>\n",
       "      <td>[i, have, mixed, feelings, about, my, experience]</td>\n",
       "      <td>[mixed, feelings, experience]</td>\n",
       "      <td>[mixed, feeling, experience]</td>\n",
       "      <td>[mix, feel, experi]</td>\n",
       "      <td>[(mixed, JJ), (feeling, NN), (experience, NN)]</td>\n",
       "      <td>mixed feeling experience</td>\n",
       "      <td>0.0</td>\n",
       "      <td>0</td>\n",
       "    </tr>\n",
       "    <tr>\n",
       "      <th>4</th>\n",
       "      <td>the healthcare provider was excellent i had a ...</td>\n",
       "      <td>3</td>\n",
       "      <td>[the, healthcare, provider, was, excellent, i,...</td>\n",
       "      <td>[healthcare, provider, excellent, great, exper...</td>\n",
       "      <td>[healthcare, provider, excellent, great, exper...</td>\n",
       "      <td>[healthcar, provid, excel, great, experi]</td>\n",
       "      <td>[(healthcare, NN), (provider, NN), (excellent,...</td>\n",
       "      <td>healthcare provider excellent great experience</td>\n",
       "      <td>0.9</td>\n",
       "      <td>1</td>\n",
       "    </tr>\n",
       "  </tbody>\n",
       "</table>\n",
       "</div>"
      ],
      "text/plain": [
       "                                         Review_Text  Rating  \\\n",
       "0         i have mixed feelings about my experience        4   \n",
       "1  the staff was caring and attentive i couldnt b...       5   \n",
       "2         i have mixed feelings about my experience        5   \n",
       "3         i have mixed feelings about my experience        5   \n",
       "4  the healthcare provider was excellent i had a ...       3   \n",
       "\n",
       "                               Tokenized_Review_Text  \\\n",
       "0  [i, have, mixed, feelings, about, my, experience]   \n",
       "1  [the, staff, was, caring, and, attentive, i, c...   \n",
       "2  [i, have, mixed, feelings, about, my, experience]   \n",
       "3  [i, have, mixed, feelings, about, my, experience]   \n",
       "4  [the, healthcare, provider, was, excellent, i,...   \n",
       "\n",
       "                                   Stopwords_Removed  \\\n",
       "0                      [mixed, feelings, experience]   \n",
       "1       [staff, caring, attentive, couldnt, happier]   \n",
       "2                      [mixed, feelings, experience]   \n",
       "3                      [mixed, feelings, experience]   \n",
       "4  [healthcare, provider, excellent, great, exper...   \n",
       "\n",
       "                                  Lemmatized_Reviews  \\\n",
       "0                       [mixed, feeling, experience]   \n",
       "1       [staff, caring, attentive, couldnt, happier]   \n",
       "2                       [mixed, feeling, experience]   \n",
       "3                       [mixed, feeling, experience]   \n",
       "4  [healthcare, provider, excellent, great, exper...   \n",
       "\n",
       "                             Stemmed_Reviews  \\\n",
       "0                        [mix, feel, experi]   \n",
       "1    [staff, care, attent, couldnt, happier]   \n",
       "2                        [mix, feel, experi]   \n",
       "3                        [mix, feel, experi]   \n",
       "4  [healthcar, provid, excel, great, experi]   \n",
       "\n",
       "                                          POS_Tagged  \\\n",
       "0     [(mixed, JJ), (feeling, NN), (experience, NN)]   \n",
       "1  [(staff, NN), (caring, VBG), (attentive, JJ), ...   \n",
       "2     [(mixed, JJ), (feeling, NN), (experience, NN)]   \n",
       "3     [(mixed, JJ), (feeling, NN), (experience, NN)]   \n",
       "4  [(healthcare, NN), (provider, NN), (excellent,...   \n",
       "\n",
       "                                  Cleaned_Reviews  Sentiment_Polarity  \\\n",
       "0                        mixed feeling experience                 0.0   \n",
       "1          staff caring attentive couldnt happier                 0.4   \n",
       "2                        mixed feeling experience                 0.0   \n",
       "3                        mixed feeling experience                 0.0   \n",
       "4  healthcare provider excellent great experience                 0.9   \n",
       "\n",
       "   Sentiment  \n",
       "0          0  \n",
       "1          1  \n",
       "2          0  \n",
       "3          0  \n",
       "4          1  "
      ]
     },
     "execution_count": 45,
     "metadata": {},
     "output_type": "execute_result"
    }
   ],
   "source": [
    "df.head()"
   ]
  },
  {
   "cell_type": "code",
   "execution_count": 46,
   "id": "497df1e7",
   "metadata": {},
   "outputs": [
    {
     "name": "stdout",
     "output_type": "stream",
     "text": [
      "Top 10 Recurring Words:\n",
      "experience\n",
      "service\n",
      "provider\n",
      "healthcare\n",
      "bad\n",
      "im\n",
      "satisfied\n",
      "received\n",
      "highly\n",
      "recommended\n"
     ]
    }
   ],
   "source": [
    "from collections import Counter\n",
    "# Count word frequencies\n",
    "word_freq = Counter([word for tokens in df['Lemmatized_Reviews'] for word in tokens])\n",
    "\n",
    "# top 10 recurring words\n",
    "top_10_words = word_freq.most_common(10)\n",
    "\n",
    "# Print the results\n",
    "print(\"Top 10 Recurring Words:\")\n",
    "for word, count in top_10_words:\n",
    "    print(f\"{word}\")"
   ]
  },
  {
   "cell_type": "code",
   "execution_count": 47,
   "id": "176ff699",
   "metadata": {},
   "outputs": [],
   "source": [
    "# x=df['Cleaned_Reviews'].values\n",
    "# y=df['Sentiment'].values"
   ]
  },
  {
   "cell_type": "code",
   "execution_count": 48,
   "id": "8641e2bb",
   "metadata": {},
   "outputs": [],
   "source": [
    "countvectorizer = CountVectorizer()\n",
    "\n",
    "x_cv = countvectorizer.fit_transform(x)"
   ]
  },
  {
   "cell_type": "code",
   "execution_count": 49,
   "id": "2308e1d3-95d1-4a9f-8378-7aa2ce2cde7f",
   "metadata": {},
   "outputs": [],
   "source": [
    "dataset_analysis = pd.DataFrame(x_cv.toarray(), columns=countvectorizer.get_feature_names_out())\n",
    "dataset_analysis['Sentiment']=y"
   ]
  },
  {
   "cell_type": "code",
   "execution_count": 50,
   "id": "cf358e8d-5fa4-487e-910f-623b61eba4d4",
   "metadata": {},
   "outputs": [
    {
     "data": {
      "text/plain": [
       "(1000, 37)"
      ]
     },
     "execution_count": 50,
     "metadata": {},
     "output_type": "execute_result"
    }
   ],
   "source": [
    "dataset_analysis.shape"
   ]
  },
  {
   "cell_type": "markdown",
   "id": "443637d5",
   "metadata": {},
   "source": [
    "## Positive Sentiment Analysis\n"
   ]
  },
  {
   "cell_type": "code",
   "execution_count": 51,
   "id": "f925d597-c830-43ce-9d16-fb92aeed600f",
   "metadata": {},
   "outputs": [
    {
     "data": {
      "text/html": [
       "<div>\n",
       "<style scoped>\n",
       "    .dataframe tbody tr th:only-of-type {\n",
       "        vertical-align: middle;\n",
       "    }\n",
       "\n",
       "    .dataframe tbody tr th {\n",
       "        vertical-align: top;\n",
       "    }\n",
       "\n",
       "    .dataframe thead th {\n",
       "        text-align: right;\n",
       "    }\n",
       "</style>\n",
       "<table border=\"1\" class=\"dataframe\">\n",
       "  <thead>\n",
       "    <tr style=\"text-align: right;\">\n",
       "      <th></th>\n",
       "      <th>Words</th>\n",
       "      <th>Frequency</th>\n",
       "    </tr>\n",
       "  </thead>\n",
       "  <tbody>\n",
       "    <tr>\n",
       "      <th>31</th>\n",
       "      <td>service</td>\n",
       "      <td>208</td>\n",
       "    </tr>\n",
       "    <tr>\n",
       "      <th>18</th>\n",
       "      <td>highly</td>\n",
       "      <td>117</td>\n",
       "    </tr>\n",
       "    <tr>\n",
       "      <th>30</th>\n",
       "      <td>satisfied</td>\n",
       "      <td>117</td>\n",
       "    </tr>\n",
       "    <tr>\n",
       "      <th>28</th>\n",
       "      <td>recommended</td>\n",
       "      <td>117</td>\n",
       "    </tr>\n",
       "    <tr>\n",
       "      <th>26</th>\n",
       "      <td>received</td>\n",
       "      <td>117</td>\n",
       "    </tr>\n",
       "  </tbody>\n",
       "</table>\n",
       "</div>"
      ],
      "text/plain": [
       "          Words  Frequency\n",
       "31      service        208\n",
       "18       highly        117\n",
       "30    satisfied        117\n",
       "28  recommended        117\n",
       "26     received        117"
      ]
     },
     "execution_count": 51,
     "metadata": {},
     "output_type": "execute_result"
    }
   ],
   "source": [
    "df_pos=dataset_analysis.query(\"Sentiment==1\")\n",
    "positive_df=pd.DataFrame()\n",
    "positive_df['Words']=list(df_pos.iloc[:, :-1].columns)\n",
    "positive_df['Frequency']=df_pos.iloc[:, :-1].sum().values\n",
    "positive_df = positive_df.sort_values(by='Frequency',ascending=False)\n",
    "positive_df.head()"
   ]
  },
  {
   "cell_type": "markdown",
   "id": "e72b6697",
   "metadata": {},
   "source": [
    "## Negative Sentiment Analysis"
   ]
  },
  {
   "cell_type": "code",
   "execution_count": 52,
   "id": "2ac57c5d-b54d-402f-83a4-7b4b204cbf96",
   "metadata": {},
   "outputs": [
    {
     "data": {
      "text/html": [
       "<div>\n",
       "<style scoped>\n",
       "    .dataframe tbody tr th:only-of-type {\n",
       "        vertical-align: middle;\n",
       "    }\n",
       "\n",
       "    .dataframe tbody tr th {\n",
       "        vertical-align: top;\n",
       "    }\n",
       "\n",
       "    .dataframe thead th {\n",
       "        text-align: right;\n",
       "    }\n",
       "</style>\n",
       "<table border=\"1\" class=\"dataframe\">\n",
       "  <thead>\n",
       "    <tr style=\"text-align: right;\">\n",
       "      <th></th>\n",
       "      <th>Words</th>\n",
       "      <th>Frequency</th>\n",
       "    </tr>\n",
       "  </thead>\n",
       "  <tbody>\n",
       "    <tr>\n",
       "      <th>12</th>\n",
       "      <td>experience</td>\n",
       "      <td>281</td>\n",
       "    </tr>\n",
       "    <tr>\n",
       "      <th>25</th>\n",
       "      <td>provider</td>\n",
       "      <td>187</td>\n",
       "    </tr>\n",
       "    <tr>\n",
       "      <th>5</th>\n",
       "      <td>bad</td>\n",
       "      <td>184</td>\n",
       "    </tr>\n",
       "    <tr>\n",
       "      <th>31</th>\n",
       "      <td>service</td>\n",
       "      <td>106</td>\n",
       "    </tr>\n",
       "    <tr>\n",
       "      <th>9</th>\n",
       "      <td>disappointing</td>\n",
       "      <td>106</td>\n",
       "    </tr>\n",
       "  </tbody>\n",
       "</table>\n",
       "</div>"
      ],
      "text/plain": [
       "            Words  Frequency\n",
       "12     experience        281\n",
       "25       provider        187\n",
       "5             bad        184\n",
       "31        service        106\n",
       "9   disappointing        106"
      ]
     },
     "execution_count": 52,
     "metadata": {},
     "output_type": "execute_result"
    }
   ],
   "source": [
    "df_neg=dataset_analysis.query(\"Sentiment==-1\")\n",
    "negative_df=pd.DataFrame()\n",
    "negative_df['Words']=list(df_neg.iloc[:, :-1].columns)\n",
    "negative_df['Frequency']=df_neg.iloc[:, :-1].sum().values\n",
    "negative_df = negative_df.sort_values(by='Frequency',ascending=False)\n",
    "negative_df.head()"
   ]
  },
  {
   "cell_type": "markdown",
   "id": "13d44384",
   "metadata": {},
   "source": [
    "## Neutral Sentiment Analysis "
   ]
  },
  {
   "cell_type": "code",
   "execution_count": 53,
   "id": "0ef3bf7c-4a86-470f-baa1-22b1e4380a35",
   "metadata": {},
   "outputs": [
    {
     "data": {
      "text/html": [
       "<div>\n",
       "<style scoped>\n",
       "    .dataframe tbody tr th:only-of-type {\n",
       "        vertical-align: middle;\n",
       "    }\n",
       "\n",
       "    .dataframe tbody tr th {\n",
       "        vertical-align: top;\n",
       "    }\n",
       "\n",
       "    .dataframe thead th {\n",
       "        text-align: right;\n",
       "    }\n",
       "</style>\n",
       "<table border=\"1\" class=\"dataframe\">\n",
       "  <thead>\n",
       "    <tr style=\"text-align: right;\">\n",
       "      <th></th>\n",
       "      <th>Words</th>\n",
       "      <th>Frequency</th>\n",
       "    </tr>\n",
       "  </thead>\n",
       "  <tbody>\n",
       "    <tr>\n",
       "      <th>12</th>\n",
       "      <td>experience</td>\n",
       "      <td>281</td>\n",
       "    </tr>\n",
       "    <tr>\n",
       "      <th>25</th>\n",
       "      <td>provider</td>\n",
       "      <td>187</td>\n",
       "    </tr>\n",
       "    <tr>\n",
       "      <th>5</th>\n",
       "      <td>bad</td>\n",
       "      <td>184</td>\n",
       "    </tr>\n",
       "    <tr>\n",
       "      <th>31</th>\n",
       "      <td>service</td>\n",
       "      <td>106</td>\n",
       "    </tr>\n",
       "    <tr>\n",
       "      <th>9</th>\n",
       "      <td>disappointing</td>\n",
       "      <td>106</td>\n",
       "    </tr>\n",
       "  </tbody>\n",
       "</table>\n",
       "</div>"
      ],
      "text/plain": [
       "            Words  Frequency\n",
       "12     experience        281\n",
       "25       provider        187\n",
       "5             bad        184\n",
       "31        service        106\n",
       "9   disappointing        106"
      ]
     },
     "execution_count": 53,
     "metadata": {},
     "output_type": "execute_result"
    }
   ],
   "source": [
    "df_neu=dataset_analysis.query(\"Sentiment==0\")\n",
    "neutral_df=pd.DataFrame()\n",
    "neutral_df['Words']=list(df_new.iloc[:, :-1].columns)\n",
    "neutral_df['Frequency']=df_new.iloc[:, :-1].sum().values\n",
    "neutral_df = negative_df.sort_values(by='Frequency',ascending=False)\n",
    "neutral_df.head()"
   ]
  },
  {
   "cell_type": "markdown",
   "id": "a286c6c7-66fb-4a39-a0de-42f6efcdb45a",
   "metadata": {},
   "source": [
    "# Insights:"
   ]
  },
  {
   "attachments": {},
   "cell_type": "markdown",
   "id": "e922f2e6-fcf4-49d6-ba1e-683e73e3f4c0",
   "metadata": {},
   "source": [
    "\n",
    "## Most frequently used words:\n",
    "- Top 10 Recurring Words: \n",
    "  - experience\n",
    "  - service\n",
    "  - provider\n",
    "  - healthcare\n",
    "  - bad\n",
    "  - im\n",
    "  - satisfied\n",
    "  - received\n",
    "  - highly\n",
    "  - recommended\n",
    "\n",
    "- Positive Reviews : Customers are highly satisfied and recommend the service.\n",
    "  - service\t208\n",
    "  - highly\t117\n",
    "  - satisfied\t117\n",
    "  - recommended\t117\n",
    "  - received\t117 \n",
    "- Positive reviews : \n",
    "\n",
    "- Negative Reviews : Customers had a bad, disappointing experience and service.\n",
    "  - experience\t281\n",
    "  - provider\t187\n",
    "  - bad\t184\n",
    "  - service\t106\n",
    "  - disappointing\t106\n",
    "- Negative reviews : \n",
    "\n",
    "- Neutral Reviews : Customers had a bad, disappointing experience and service.\n",
    "  - experience\t281\n",
    "  - provider\t187\n",
    "  - bad\t184\n",
    "  - service\t106\n",
    "  - disappointing\t106"
   ]
  }
 ],
 "metadata": {
  "kernelspec": {
   "display_name": "Python 3 (ipykernel)",
   "language": "python",
   "name": "python3"
  },
  "language_info": {
   "codemirror_mode": {
    "name": "ipython",
    "version": 3
   },
   "file_extension": ".py",
   "mimetype": "text/x-python",
   "name": "python",
   "nbconvert_exporter": "python",
   "pygments_lexer": "ipython3",
   "version": "3.12.0"
  }
 },
 "nbformat": 4,
 "nbformat_minor": 5
}
